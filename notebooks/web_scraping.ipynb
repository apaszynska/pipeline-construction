{
 "cells": [
  {
   "cell_type": "code",
   "execution_count": null,
   "id": "faa91de8",
   "metadata": {},
   "outputs": [],
   "source": [
    "import requests\n",
    "import bs4\n",
    "from datetime import datetime, timedelta\n",
    "# from dotenv import load_dotenv\n",
    "import psycopg\n",
    "import psycopg_binary\n",
    "# import os\n",
    "import streamlit as st"
   ]
  },
  {
   "cell_type": "markdown",
   "id": "9eb6867a",
   "metadata": {},
   "source": [
    "# Web Scraping "
   ]
  },
  {
   "cell_type": "markdown",
   "id": "d3d297dc",
   "metadata": {},
   "source": [
    "### Request the library to make an HTTP request to the webpage ( EXAMPLE )"
   ]
  },
  {
   "cell_type": "code",
   "execution_count": null,
   "id": "da650b23",
   "metadata": {},
   "outputs": [],
   "source": [
    "def scrape_data():\n",
    "    url = \"http://www.example.com\"\n",
    "    response = requests.get(url)\n",
    "    soup = bs4.BeautifulSoup(response.text, 'html.parser')\n",
    "    print(soup)\n",
    "    return soup\n",
    "\n",
    "data = scrape_data()\n"
   ]
  },
  {
   "cell_type": "markdown",
   "id": "2778be30",
   "metadata": {},
   "source": [
    "### Request the library U.Today"
   ]
  },
  {
   "cell_type": "code",
   "execution_count": null,
   "id": "69985e1f",
   "metadata": {},
   "outputs": [],
   "source": [
    "def scrape_data():\n",
    "    url = 'https://u.today/search/node?keys=bitcoin'\n",
    "    response = requests.get(url)\n",
    "    soup = bs4.BeautifulSoup(response.text, 'html.parser')\n",
    "    print(soup)\n",
    "    return(soup)\n",
    "\n",
    "data = scrape_data()"
   ]
  },
  {
   "cell_type": "markdown",
   "id": "373ef71f",
   "metadata": {},
   "source": [
    "### Get a list of articles with dates"
   ]
  },
  {
   "cell_type": "markdown",
   "id": "8cf16efa",
   "metadata": {},
   "source": [
    "#### Get today's date"
   ]
  },
  {
   "cell_type": "code",
   "execution_count": null,
   "id": "7871f04a",
   "metadata": {},
   "outputs": [],
   "source": [
    "today = datetime.today().strftime('%b,%d,%Y')\n",
    "today"
   ]
  },
  {
   "cell_type": "markdown",
   "id": "cd133a1b",
   "metadata": {},
   "source": [
    "#### Print all the articles on the page"
   ]
  },
  {
   "cell_type": "code",
   "execution_count": null,
   "id": "4f71d3c0",
   "metadata": {},
   "outputs": [],
   "source": [
    "articles = data.find_all(\"div\", attrs ={\"class\": \"news__item\"})\n",
    "\n",
    "results = []\n",
    "dates = []\n",
    "for article in articles:\n",
    "    title_div = article.find(\"div\", attrs = {\"class\": \"news__item-title\"})\n",
    "    date_div = article.find(\"div\", attrs = {\"class\":\"humble\"})\n",
    "\n",
    "    if title_div and date_div:\n",
    "        title = title_div.get_text(strip = True)\n",
    "        date = date_div.get_text(strip = True)\n",
    "        results.append((date, title))\n",
    "        dates.append(date)\n",
    "\n",
    "if not dates:\n",
    "    print(\"No articles found\")\n",
    "else:\n",
    "    latest_date = max(dates)\n",
    "\n",
    "for date, title in results:\n",
    "    print(f\"{date} – {title}\")\n",
    "if not results:\n",
    "    print(\"No articles found for today.\")"
   ]
  },
  {
   "cell_type": "code",
   "execution_count": null,
   "id": "411fd67f",
   "metadata": {},
   "outputs": [],
   "source": [
    "print(f\"Found {len(articles)} articles\")"
   ]
  },
  {
   "cell_type": "markdown",
   "id": "236749f8",
   "metadata": {},
   "source": [
    "#### Print articles for today or the latest possible date"
   ]
  },
  {
   "cell_type": "code",
   "execution_count": null,
   "id": "351ff2d9",
   "metadata": {},
   "outputs": [],
   "source": [
    "articles = data.find_all(\"div\", attrs ={\"class\": \"news__item\"})\n",
    "\n",
    "results = []\n",
    "dates = []\n",
    "\n",
    "for article in articles:\n",
    "    title_div = article.find(\"div\", attrs = {\"class\": \"news__item-title\"})\n",
    "    date_div = article.find(\"div\", attrs = {\"class\":\"humble\"})\n",
    "\n",
    "    if title_div and date_div:\n",
    "        title = title_div.get_text(strip = True)\n",
    "        date = date_div.get_text(strip = True)\n",
    "        try:\n",
    "            date_obj = datetime.strptime(date, \"%b %d, %Y - %H:%M\") #converting each date string immediately into a datetime object and store in dates list\n",
    "            results.append((date_obj, title))\n",
    "            dates.append(date_obj)\n",
    "        except ValueError:\n",
    "            print(f\"Skipping the article due to unrecognized date format\")\n",
    "\n",
    "#if the list is empty then...\n",
    "if not dates:\n",
    "    print(\"No articles found\")\n",
    "else:\n",
    "    today = datetime.today().date() #datetime.today() — pobiera aktualną datę i czas (teraz, dokładnie z godziną, minutą, sekundą itp.) \n",
    "                                    #.date() — wyciąga tylko część daty, czyli rok, miesiąc i dzień, bez godziny i minut.\n",
    "\n",
    "# Try to find articles from today - if date=today then for date,time in our results we create a new list of tuples\n",
    "todays_articles = [(d, t) for d, t in results if d.date() == today]\n",
    "\n",
    "if todays_articles:\n",
    "        print(\"Articles from today:\")\n",
    "        for d, t in todays_articles:\n",
    "            print(f\"{d.strftime('%b %d, %Y - %H:%M')} – {t}\")\n",
    "else:\n",
    "    # Fallback to most recent date\n",
    "    latest_date = max(dates)\n",
    "    recent_articles = [(d, t) for d, t in results if d.date() == latest_date.date()]\n",
    "    print(f\"No articles from today. Showing most recent articles from {latest_date.strftime('%b %d, %Y')}:\")\n",
    "    for d, t in recent_articles:\n",
    "        print(f\"{d.strftime('%b %d, %Y - %H:%M')} – {t}\")"
   ]
  },
  {
   "cell_type": "markdown",
   "id": "8379feef",
   "metadata": {},
   "source": [
    "### Filter the last 6 Months"
   ]
  },
  {
   "cell_type": "code",
   "execution_count": null,
   "id": "c1a29f65",
   "metadata": {},
   "outputs": [],
   "source": [
    "last_six_months = today - timedelta(days=6*30)"
   ]
  },
  {
   "cell_type": "markdown",
   "id": "86ffe986",
   "metadata": {},
   "source": [
    "#### Keep only the articles with date not older than 6 months"
   ]
  },
  {
   "cell_type": "code",
   "execution_count": null,
   "id": "3f4bd2fb",
   "metadata": {},
   "outputs": [],
   "source": [
    "last_6months_articles = [(d, t) for d, t in results if d.date() >= last_six_months]"
   ]
  },
  {
   "cell_type": "markdown",
   "id": "7855d3b8",
   "metadata": {},
   "source": [
    "## Store data in an SQL database on Supabase"
   ]
  },
  {
   "cell_type": "markdown",
   "id": "226530ab",
   "metadata": {},
   "source": [
    "#### Load and connect to dotenv file"
   ]
  },
  {
   "cell_type": "code",
   "execution_count": null,
   "id": "663688cb",
   "metadata": {},
   "outputs": [],
   "source": [
    "# load_dotenv()\n",
    "# dbconn = os.getenv(\"DB_CONN\")\n",
    "dbconn = st.secrets[\"DBCONN\"]"
   ]
  },
  {
   "cell_type": "markdown",
   "id": "298987ea",
   "metadata": {},
   "source": [
    "#### Create a table"
   ]
  },
  {
   "cell_type": "code",
   "execution_count": null,
   "id": "70377b23",
   "metadata": {},
   "outputs": [],
   "source": [
    "# import psycopg\n",
    "\n",
    "# def create_table():\n",
    "#     conn = psycopg.connect(dbconn)\n",
    "#     cur = conn.cursor()\n",
    "#     cur.execute(\n",
    "#         '''\n",
    "#             CREATE TABLE IF NOT EXISTS articles(\n",
    "#                 date TIMESTAMP PRIMARY KEY,\n",
    "#                 title TEXT\n",
    "#             );\n",
    "#         '''\n",
    "#     )\n",
    "#     conn.commit()\n",
    "#     cur.close()\n",
    "#     conn.close()\n",
    "\n",
    "# create_table()\n"
   ]
  },
  {
   "cell_type": "markdown",
   "id": "b8eefa98",
   "metadata": {},
   "source": [
    "#### Insert data into the table"
   ]
  },
  {
   "cell_type": "code",
   "execution_count": null,
   "id": "05f489c3",
   "metadata": {},
   "outputs": [],
   "source": [
    "conn = psycopg.connect(dbconn)\n",
    "cur = conn.cursor()\n",
    "\n",
    "# executemany is \n",
    "cur.executemany(\n",
    "    '''\n",
    "        INSERT INTO articles(date, title)\n",
    "        VALUES (%s, %s)\n",
    "        ON CONFLICT (date) DO NOTHING;\n",
    "    ''',\n",
    "    last_6months_articles\n",
    ")\n",
    "\n",
    "conn.commit()\n",
    "cur.close()\n",
    "conn.close()"
   ]
  },
  {
   "cell_type": "code",
   "execution_count": null,
   "id": "fbe415f1",
   "metadata": {},
   "outputs": [],
   "source": [
    "# def drop_table():\n",
    "#     conn = psycopg.connect(dbconn)\n",
    "#     cur = conn.cursor()\n",
    "#     cur.execute(\"DROP TABLE IF EXISTS articles;\")\n",
    "#     conn.commit()\n",
    "#     cur.close()\n",
    "#     conn.close()"
   ]
  },
  {
   "cell_type": "code",
   "execution_count": null,
   "id": "ebd6fbf3",
   "metadata": {},
   "outputs": [],
   "source": [
    "# drop_table()"
   ]
  }
 ],
 "metadata": {
  "kernelspec": {
   "display_name": "base",
   "language": "python",
   "name": "python3"
  },
  "language_info": {
   "codemirror_mode": {
    "name": "ipython",
    "version": 3
   },
   "file_extension": ".py",
   "mimetype": "text/x-python",
   "name": "python",
   "nbconvert_exporter": "python",
   "pygments_lexer": "ipython3",
   "version": "3.12.3"
  }
 },
 "nbformat": 4,
 "nbformat_minor": 5
}
