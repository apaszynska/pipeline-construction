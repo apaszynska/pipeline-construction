{
 "cells": [
  {
   "cell_type": "markdown",
   "id": "a5ad120e",
   "metadata": {},
   "source": [
    "# Bitcoin Project"
   ]
  },
  {
   "cell_type": "code",
   "execution_count": null,
   "id": "9c5ecd3b",
   "metadata": {},
   "outputs": [],
   "source": [
    "# pip install psycopg[binary]"
   ]
  },
  {
   "cell_type": "markdown",
   "id": "54f8725c",
   "metadata": {},
   "source": [
    "### Import necessary libraries"
   ]
  },
  {
   "cell_type": "code",
   "execution_count": null,
   "id": "9cb73dc7",
   "metadata": {},
   "outputs": [],
   "source": [
    "import requests\n",
    "# import os\n",
    "# from dotenv import load_dotenv\n",
    "import psycopg\n",
    "import json\n",
    "from datetime import datetime\n",
    "import pandas as pd\n",
    "import streamlit as st"
   ]
  },
  {
   "cell_type": "markdown",
   "id": "2c96b442",
   "metadata": {},
   "source": [
    "### Get API data \n",
    "Request a daily historical time series for a digital currency"
   ]
  },
  {
   "cell_type": "code",
   "execution_count": null,
   "id": "807e6d52",
   "metadata": {},
   "outputs": [],
   "source": [
    "# Load environment variables from .env file\n",
    "# load_dotenv()\n",
    "api_key = st.secrets(\"BITCOIN_API\")"
   ]
  },
  {
   "cell_type": "code",
   "execution_count": null,
   "id": "30f221ca",
   "metadata": {},
   "outputs": [],
   "source": [
    "# Skonstruuj URL z kluczem API\n",
    "url = f\"https://www.alphavantage.co/query?function=DIGITAL_CURRENCY_DAILY&symbol=BTC&market=EUR&apikey={api_key}\"\n",
    "response = requests.get(url)\n",
    "print(response.status_code)\n",
    "data = response.json()\n",
    "print(data)"
   ]
  },
  {
   "cell_type": "markdown",
   "id": "9f801aef",
   "metadata": {},
   "source": [
    "Convert a Python dict into a formatted JSON string for readability"
   ]
  },
  {
   "cell_type": "code",
   "execution_count": null,
   "id": "3e5cb70d",
   "metadata": {},
   "outputs": [],
   "source": [
    "print(json.dumps(data, indent=2))"
   ]
  },
  {
   "cell_type": "markdown",
   "id": "e5faf57c",
   "metadata": {},
   "source": [
    "## Store data in an SQL database on Supabase"
   ]
  },
  {
   "cell_type": "markdown",
   "id": "139009e0",
   "metadata": {},
   "source": [
    "### Create a table function"
   ]
  },
  {
   "cell_type": "code",
   "execution_count": null,
   "id": "e38dbfbc",
   "metadata": {},
   "outputs": [],
   "source": [
    "# load_dotenv()\n",
    "dbconn = st.secrets(\"DB_CONN\")"
   ]
  },
  {
   "cell_type": "code",
   "execution_count": null,
   "id": "61fd7d27",
   "metadata": {},
   "outputs": [],
   "source": [
    "# try:\n",
    "#     conn = psycopg.connect(dbconn)\n",
    "#     print(\"✅ Connection successful!\")\n",
    "#     conn.close()\n",
    "# except Exception as e:\n",
    "#     print(\"❌ Connection failed:\")\n",
    "#     print(e)"
   ]
  },
  {
   "cell_type": "code",
   "execution_count": null,
   "id": "2d48695f",
   "metadata": {},
   "outputs": [],
   "source": [
    "def create_table():\n",
    "    conn = psycopg.connect(dbconn)\n",
    "    cur = conn.cursor()\n",
    "    cur.execute(\n",
    "        '''\n",
    "            CREATE TABLE IF NOT EXISTS api_data(\n",
    "                date TIMESTAMP PRIMARY KEY,\n",
    "                open FLOAT,\n",
    "                high FLOAT,\n",
    "                low FLOAT,\n",
    "                close FLOAT,\n",
    "                volume FLOAT\n",
    "            );\n",
    "        '''\n",
    "    )\n",
    "    conn.commit()\n",
    "    cur.close()\n",
    "    conn.close()\n",
    "\n",
    "create_table()"
   ]
  },
  {
   "cell_type": "markdown",
   "id": "7d60d009",
   "metadata": {},
   "source": [
    "### Insert data into table"
   ]
  },
  {
   "cell_type": "code",
   "execution_count": null,
   "id": "673014c5",
   "metadata": {},
   "outputs": [],
   "source": [
    "conn = psycopg.connect(dbconn)\n",
    "cur = conn.cursor()\n",
    "\n",
    "time_series = data[\"Time Series (Digital Currency Daily)\"]\n",
    "\n",
    "for date_str, values in time_series.items():\n",
    "    date_obj = datetime.strptime(date_str, \"%Y-%m-%d\")\n",
    "    open_price = float(values[\"1. open\"])\n",
    "    high_price = float(values[\"2. high\"])\n",
    "    low_price = float(values[\"3. low\"])\n",
    "    close_price = float(values[\"4. close\"])\n",
    "    volume = float(values[\"5. volume\"])\n",
    "    \n",
    "\n",
    "    cur.execute(\n",
    "    '''\n",
    "        INSERT INTO api_data(date, open, high, low, close, volume)\n",
    "        VALUES (%s, %s, %s, %s, %s, %s)\n",
    "        ON CONFLICT (date) DO NOTHING;;\n",
    "    ''', \n",
    "    (date_obj, open_price, high_price, low_price, close_price, volume)\n",
    "    )\n",
    "\n",
    "conn.commit()\n",
    "cur.close()\n",
    "conn.close()\n"
   ]
  },
  {
   "cell_type": "markdown",
   "id": "034507e7",
   "metadata": {},
   "source": [
    "#### Drop table if already exists"
   ]
  },
  {
   "cell_type": "code",
   "execution_count": null,
   "id": "5508b513",
   "metadata": {},
   "outputs": [],
   "source": [
    "\n",
    "# conn = psycopg.connect(dbconn)\n",
    "# cur = conn.cursor()\n",
    "\n",
    "# cur.execute(\"DROP TABLE IF EXISTS api_data;\")\n",
    "\n",
    "# conn.commit()\n",
    "# cur.close()\n",
    "# conn.close()"
   ]
  },
  {
   "cell_type": "markdown",
   "id": "853c87d1",
   "metadata": {},
   "source": [
    "### Display latest data in a df to check it out"
   ]
  },
  {
   "cell_type": "code",
   "execution_count": null,
   "id": "825902b5",
   "metadata": {},
   "outputs": [],
   "source": [
    "# Connect to Supabase PostgreSQL\n",
    "conn = psycopg.connect(dbconn)  # Make sure dbconn is defined with your Supabase URL and credentials\n",
    "cur = conn.cursor()\n",
    "\n",
    "# Run query\n",
    "cur.execute(\"SELECT * FROM api_data ORDER BY date DESC LIMIT 10;\")\n",
    "rows = cur.fetchall()\n",
    "\n",
    "# Close the connection\n",
    "cur.close()\n",
    "conn.close()\n"
   ]
  },
  {
   "cell_type": "code",
   "execution_count": null,
   "id": "d8b03498",
   "metadata": {},
   "outputs": [],
   "source": [
    "\n",
    "# Display using pandas\n",
    "df = pd.DataFrame(rows, columns=[\"date\", \"open\", \"high\", \"low\", \"close\", \"volume\"])\n",
    "print(df)"
   ]
  }
 ],
 "metadata": {
  "kernelspec": {
   "display_name": "base",
   "language": "python",
   "name": "python3"
  },
  "language_info": {
   "codemirror_mode": {
    "name": "ipython",
    "version": 3
   },
   "file_extension": ".py",
   "mimetype": "text/x-python",
   "name": "python",
   "nbconvert_exporter": "python",
   "pygments_lexer": "ipython3",
   "version": "3.12.3"
  }
 },
 "nbformat": 4,
 "nbformat_minor": 5
}
