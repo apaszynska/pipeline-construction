{
 "cells": [
  {
   "cell_type": "code",
   "execution_count": null,
   "id": "379634ef",
   "metadata": {},
   "outputs": [],
   "source": [
    "import requests\n",
    "import os\n",
    "from dotenv import load_dotenv"
   ]
  },
  {
   "cell_type": "code",
   "execution_count": null,
   "id": "6099a33b",
   "metadata": {},
   "outputs": [],
   "source": [
    "# Load environment variables from .env file\n",
    "load_dotenv()\n",
    "api_key = os.getenv(\"NASA_APIKEY1\")"
   ]
  },
  {
   "cell_type": "code",
   "execution_count": null,
   "id": "66c46ed4",
   "metadata": {},
   "outputs": [],
   "source": [
    "# Define the endpoint and parameters\n",
    "url = \"https://api.nasa.gov/planetary/apod\"\n",
    "params = {\n",
    "    \"api_key\": api_key,\n",
    "    \"date\": \"2025-05-20\"\n",
    "}\n",
    "\n",
    "# Send the request\n",
    "response = requests.get(url, params=params)\n",
    "\n",
    "# Handle the response\n",
    "if response.status_code == 200:\n",
    "    data = response.json()\n",
    "    print(\"Title:\", data['title'])\n",
    "    print(\"Image URL:\", data['url'])\n",
    "    print(\"Explanation:\", data['explanation'])\n",
    "else:\n",
    "    print(\"Error:\", response.status_code, response.text)"
   ]
  },
  {
   "cell_type": "code",
   "execution_count": null,
   "id": "96f177c5",
   "metadata": {},
   "outputs": [],
   "source": [
    "from IPython.display import Image, display\n",
    "\n",
    "image_url = data['url']  # or use your image URL string here\n",
    "\n",
    "display(Image(url=image_url))\n"
   ]
  }
 ],
 "metadata": {
  "kernelspec": {
   "display_name": "base",
   "language": "python",
   "name": "python3"
  },
  "language_info": {
   "codemirror_mode": {
    "name": "ipython",
    "version": 3
   },
   "file_extension": ".py",
   "mimetype": "text/x-python",
   "name": "python",
   "nbconvert_exporter": "python",
   "pygments_lexer": "ipython3",
   "version": "3.12.3"
  }
 },
 "nbformat": 4,
 "nbformat_minor": 5
}
